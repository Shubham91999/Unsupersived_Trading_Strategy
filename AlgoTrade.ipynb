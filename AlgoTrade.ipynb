{
 "cells": [
  {
   "cell_type": "code",
   "execution_count": 2,
   "metadata": {},
   "outputs": [],
   "source": [
    "#Importing required libraries\n",
    "import pandas as pd\n",
    "import numpy as np\n",
    "import matplotlib.pyplot as plt\n",
    "from statsmodels.regression.rolling import RollingOLS\n",
    "import pandas_datareader.data as web\n",
    "import statsmodels.api as sm\n",
    "import datetime as dt\n",
    "import yfinance as yf\n",
    "import pandas_ta\n",
    "import warnings\n",
    "warnings.filterwarnings('ignore')\n"
   ]
  },
  {
   "cell_type": "code",
   "execution_count": 4,
   "metadata": {},
   "outputs": [],
   "source": [
    "sp500 = pd.read_html('https://en.wikipedia.org/wiki/List_of_S%26P_500_companies')"
   ]
  },
  {
   "cell_type": "code",
   "execution_count": 5,
   "metadata": {},
   "outputs": [
    {
     "data": {
      "text/plain": [
       "[    Symbol             Security             GICS Sector  \\\n",
       " 0      MMM                   3M             Industrials   \n",
       " 1      AOS          A. O. Smith             Industrials   \n",
       " 2      ABT  Abbott Laboratories             Health Care   \n",
       " 3     ABBV               AbbVie             Health Care   \n",
       " 4      ACN            Accenture  Information Technology   \n",
       " ..     ...                  ...                     ...   \n",
       " 498    XYL           Xylem Inc.             Industrials   \n",
       " 499    YUM          Yum! Brands  Consumer Discretionary   \n",
       " 500   ZBRA   Zebra Technologies  Information Technology   \n",
       " 501    ZBH        Zimmer Biomet             Health Care   \n",
       " 502    ZTS               Zoetis             Health Care   \n",
       " \n",
       "                                 GICS Sub-Industry    Headquarters Location  \\\n",
       " 0                        Industrial Conglomerates    Saint Paul, Minnesota   \n",
       " 1                               Building Products     Milwaukee, Wisconsin   \n",
       " 2                           Health Care Equipment  North Chicago, Illinois   \n",
       " 3                                   Biotechnology  North Chicago, Illinois   \n",
       " 4                  IT Consulting & Other Services          Dublin, Ireland   \n",
       " ..                                            ...                      ...   \n",
       " 498  Industrial Machinery & Supplies & Components   White Plains, New York   \n",
       " 499                                   Restaurants     Louisville, Kentucky   \n",
       " 500            Electronic Equipment & Instruments   Lincolnshire, Illinois   \n",
       " 501                         Health Care Equipment          Warsaw, Indiana   \n",
       " 502                               Pharmaceuticals   Parsippany, New Jersey   \n",
       " \n",
       "      Date added      CIK      Founded  \n",
       " 0    1957-03-04    66740         1902  \n",
       " 1    2017-07-26    91142         1916  \n",
       " 2    1957-03-04     1800         1888  \n",
       " 3    2012-12-31  1551152  2013 (1888)  \n",
       " 4    2011-07-06  1467373         1989  \n",
       " ..          ...      ...          ...  \n",
       " 498  2011-11-01  1524472         2011  \n",
       " 499  1997-10-06  1041061         1997  \n",
       " 500  2019-12-23   877212         1969  \n",
       " 501  2001-08-07  1136869         1927  \n",
       " 502  2013-06-21  1555280         1952  \n",
       " \n",
       " [503 rows x 8 columns],\n",
       "                    Date  Added                                Removed  \\\n",
       "                    Date Ticker                       Security  Ticker   \n",
       " 0       October 1, 2024    NaN                            NaN    BBWI   \n",
       " 1    September 30, 2024   AMTM                        Amentum     NaN   \n",
       " 2    September 23, 2024   PLTR          Palantir Technologies     AAL   \n",
       " 3    September 23, 2024   DELL              Dell Technologies    ETSY   \n",
       " 4    September 23, 2024   ERIE                 Erie Indemnity     BIO   \n",
       " ..                  ...    ...                            ...     ...   \n",
       " 348        June 9, 1999    WLP                      Wellpoint     HPH   \n",
       " 349   December 11, 1998    FSR                        Firstar      AN   \n",
       " 350   December 11, 1998    CCL                 Carnival Corp.     GRN   \n",
       " 351   December 11, 1998   CPWR                      Compuware     SUN   \n",
       " 352       June 17, 1997    CCI  Countrywide Credit Industries     USL   \n",
       " \n",
       "                                \\\n",
       "                      Security   \n",
       " 0     Bath & Body Works, Inc.   \n",
       " 1                         NaN   \n",
       " 2     American Airlines Group   \n",
       " 3                        Etsy   \n",
       " 4        Bio-Rad Laboratories   \n",
       " ..                        ...   \n",
       " 348  Harnischfeger Industries   \n",
       " 349                     Amoco   \n",
       " 350                General Re   \n",
       " 351                SunAmerica   \n",
       " 352                    USLife   \n",
       " \n",
       "                                                 Reason  \n",
       "                                                 Reason  \n",
       " 0                     Market capitalization change.[4]  \n",
       " 1    S&P 500 constituent Jacobs Solutions spun off ...  \n",
       " 2                     Market capitalization change.[5]  \n",
       " 3                     Market capitalization change.[5]  \n",
       " 4                     Market capitalization change.[5]  \n",
       " ..                                                 ...  \n",
       " 348           Harnischfeger filed for bankruptcy.[252]  \n",
       " 349                           BP purchased Amoco.[253]  \n",
       " 350      Berkshire Hathaway purchased General Re.[253]  \n",
       " 351                     AIG purchased SunAmerica.[253]  \n",
       " 352                          AIG acquired USLife.[254]  \n",
       " \n",
       " [353 rows x 6 columns]]"
      ]
     },
     "execution_count": 5,
     "metadata": {},
     "output_type": "execute_result"
    }
   ],
   "source": [
    "sp500"
   ]
  },
  {
   "cell_type": "code",
   "execution_count": 8,
   "metadata": {},
   "outputs": [
    {
     "ename": "TypeError",
     "evalue": "list indices must be integers or slices, not str",
     "output_type": "error",
     "traceback": [
      "\u001b[0;31m---------------------------------------------------------------------------\u001b[0m",
      "\u001b[0;31mTypeError\u001b[0m                                 Traceback (most recent call last)",
      "Cell \u001b[0;32mIn[8], line 1\u001b[0m\n\u001b[0;32m----> 1\u001b[0m sp500[\u001b[38;5;124m'\u001b[39m\u001b[38;5;124mSymbol\u001b[39m\u001b[38;5;124m'\u001b[39m]\n",
      "\u001b[0;31mTypeError\u001b[0m: list indices must be integers or slices, not str"
     ]
    }
   ],
   "source": [
    "sp500['Symbol']"
   ]
  }
 ],
 "metadata": {
  "kernelspec": {
   "display_name": "base",
   "language": "python",
   "name": "python3"
  },
  "language_info": {
   "codemirror_mode": {
    "name": "ipython",
    "version": 3
   },
   "file_extension": ".py",
   "mimetype": "text/x-python",
   "name": "python",
   "nbconvert_exporter": "python",
   "pygments_lexer": "ipython3",
   "version": "3.11.5"
  }
 },
 "nbformat": 4,
 "nbformat_minor": 2
}
